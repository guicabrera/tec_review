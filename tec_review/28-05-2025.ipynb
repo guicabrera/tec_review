<!DOCTYPE html>
<html lang="en">
<head>
    <meta charset="UTF-8">
    <meta name="viewport" content="width=device-width, initial-scale=1.0">
    <link rel="stylesheet" href="css/style.css">
    <link rel="icon" href="assets/favicon.ico" type="image/x-icon">
    <title>Eel Application</title>
</head>
<body>
    <h1>Welcome to the Eel Application</h1>
    <p>This is a simple web interface for the Eel application.</p>
    <button id="getFilePathButton">Get File Path</button>
    <p id="filePath"></p>

    <script src="js/main.js"></script>
</body>
</html>