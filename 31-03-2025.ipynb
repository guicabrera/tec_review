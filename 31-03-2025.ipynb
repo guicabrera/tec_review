{
 "cells": [
  {
   "cell_type": "markdown",
   "metadata": {},
   "source": [
    "## How to use Caching Results with decorator factory?"
   ]
  },
  {
   "cell_type": "code",
   "execution_count": null,
   "metadata": {},
   "outputs": [],
   "source": [
    "def cache(func):\n",
    "    \"\"\"Decorator to cache the result of a function call.\"\"\"\n",
    "    cache_data = {}\n",
    "\n",
    "    def wrapper(*args):\n",
    "        if args not in cache_data:\n",
    "            cache_data[args] = func(*args)\n",
    "            print(f\"Cache Test\")\n",
    "        return cache_data[args]\n",
    "    return wrapper"
   ]
  },
  {
   "cell_type": "code",
   "execution_count": 3,
   "metadata": {},
   "outputs": [
    {
     "name": "stdout",
     "output_type": "stream",
     "text": [
      "Cache Test\n",
      "3\n",
      "3\n",
      "3\n",
      "Cache Test\n",
      "5\n"
     ]
    }
   ],
   "source": [
    "@cache\n",
    "def sum(a,b):\n",
    "    \"\"\"Sum two numbers.\"\"\"\n",
    "    return a + b\n",
    "\n",
    "print(sum(1,2))\n",
    "print(sum(1,2))\n",
    "print(sum(1,2))\n",
    "print(sum(1,4))"
   ]
  },
  {
   "cell_type": "markdown",
   "metadata": {},
   "source": [
    "## how to Logging with Custom Prefix using decorator factory?"
   ]
  },
  {
   "cell_type": "code",
   "execution_count": null,
   "metadata": {},
   "outputs": [],
   "source": [
    "#We must use the logging module to log the cache hits and misses.\n",
    "import logging\n",
    "logging.basicConfig(level=logging.INFO, format='%(message)s')\n",
    "\n",
    "def logging_prefix(prefix):\n",
    "    \"\"\"Decorator to add a prefix to the log messages.\"\"\"\n",
    "    def decorator(func):\n",
    "        def wrapper(*args, **kwargs):\n",
    "            logging.info(f\"{prefix} {func.__name__} called with args: {args}, kwargs: {kwargs}\")\n",
    "            return func(*args, **kwargs)\n",
    "        return wrapper\n",
    "    return decorator"
   ]
  },
  {
   "cell_type": "code",
   "execution_count": 6,
   "metadata": {},
   "outputs": [
    {
     "name": "stderr",
     "output_type": "stream",
     "text": [
      "Cache Test sum called with args: (1, 2), kwargs: {}\n",
      "Cache Test sum called with args: (1, 3), kwargs: {}\n",
      "Cache Test sum called with args: (1, 4), kwargs: {}\n",
      "Cache Test sum called with args: (1, 5), kwargs: {}\n"
     ]
    },
    {
     "name": "stdout",
     "output_type": "stream",
     "text": [
      "3\n",
      "4\n",
      "5\n",
      "6\n"
     ]
    }
   ],
   "source": [
    "@logging_prefix(\"Cache Test\")\n",
    "def sum(a,b):\n",
    "    \"\"\"Sum two numbers.\"\"\"\n",
    "    return a + b\n",
    "\n",
    "print(sum(1,2))\n",
    "print(sum(1,3))\n",
    "print(sum(1,4))\n",
    "print(sum(1,5))"
   ]
  },
  {
   "cell_type": "markdown",
   "metadata": {},
   "source": [
    "## how to Rate Limiting (quantity of calls per time) using decorator factory?"
   ]
  },
  {
   "cell_type": "code",
   "execution_count": 15,
   "metadata": {},
   "outputs": [],
   "source": [
    "import time\n",
    "import logging\n",
    "logging.basicConfig(level=logging.INFO, format='%(message)s')\n",
    "\n",
    "def rate_limit(qty, time_period, wait_time=1):\n",
    "    \"\"\"Decorator to rate limit a function.\"\"\"\n",
    "    \n",
    "    def decorator(func):\n",
    "        calls = []\n",
    "        def wrapper(*args, **kwargs):\n",
    "            now = time.time()\n",
    "            calls.append(now)\n",
    "            calls_in_period = [call for call in calls if now - call < time_period]\n",
    "            if len(calls_in_period) > qty:\n",
    "                logging.info(f\"Rate limit exceeded. {qty} calls allowed in {time_period} seconds.\")\n",
    "                time.sleep(wait_time)\n",
    "            calls[:] = calls_in_period\n",
    "            return func(*args, **kwargs)\n",
    "        return wrapper\n",
    "    return decorator"
   ]
  },
  {
   "cell_type": "code",
   "execution_count": 17,
   "metadata": {},
   "outputs": [
    {
     "name": "stderr",
     "output_type": "stream",
     "text": [
      "Rate limit exceeded. 3 calls allowed in 1 seconds.\n"
     ]
    },
    {
     "data": {
      "text/plain": [
       "3"
      ]
     },
     "execution_count": 17,
     "metadata": {},
     "output_type": "execute_result"
    }
   ],
   "source": [
    "@rate_limit(3, 1, 2)\n",
    "def sum_(a,b):\n",
    "    \"\"\"Sum two numbers.\"\"\"\n",
    "    return a + b\n",
    "\n",
    "sum_(1,2)\n",
    "sum_(1,2)\n",
    "sum_(1,2)\n",
    "sum_(1,2)\n",
    "sum_(1,2)"
   ]
  },
  {
   "cell_type": "code",
   "execution_count": 18,
   "metadata": {},
   "outputs": [],
   "source": [
    "import chromedriver_autoinstaller\n",
    "\n",
    "driver = chromedriver_autoinstaller.install()"
   ]
  },
  {
   "cell_type": "code",
   "execution_count": 20,
   "metadata": {},
   "outputs": [],
   "source": [
    "from selenium import webdriver\n",
    "from selenium.webdriver.chrome.service import Service\n",
    "from selenium.webdriver.chrome.options import Options\n",
    "\n",
    "# Path to your Chrome user data directory\n",
    "user_data_dir = r\"C:\\Users\\gui-c\\AppData\\Local\\Google\\Chrome\\User Data\"\n",
    "profile_directory = \"Profile 1\"  # Default profile is 'Default'\n",
    "\n",
    "# Setup Chrome options\n",
    "chrome_options = Options()\n",
    "chrome_options.add_argument(f\"user-data-dir={user_data_dir}\")\n",
    "chrome_options.add_argument(f\"profile-directory={profile_directory}\")\n",
    "\n",
    "user_data_dir = r\"C:\\Users\\gui-c\\AppData\\Local\\Microsoft\\Edge\\User Data\"\n",
    "profile_directory = \"Default\"  # or \"Profile 1\", \"Profile 2\", etc.\n",
    "\n",
    "# Set up Edge options\n",
    "edge_options = Options()\n",
    "edge_options.add_argument(f\"--user-data-dir={user_data_dir}\")\n",
    "edge_options.add_argument(f\"--profile-directory={profile_directory}\")\n",
    "\n",
    "# Initialize the Edge WebDriver with the specified options\n",
    "driver = webdriver.Chrome(options=chrome_options)"
   ]
  },
  {
   "cell_type": "markdown",
   "metadata": {},
   "source": [
    "## How to use the lib tempfile to start a temporary file that is not deleted at the end of the code?"
   ]
  },
  {
   "cell_type": "code",
   "execution_count": 25,
   "metadata": {},
   "outputs": [
    {
     "name": "stdout",
     "output_type": "stream",
     "text": [
      "['avffdgdf\\n', 'sdbfgbfg\\n']\n"
     ]
    }
   ],
   "source": [
    "import tempfile\n",
    "with tempfile.TemporaryFile(delete=False,mode='a+t') as tmp_f:\n",
    "\ttmp_f.writelines(['avffdgdf\\n','sdbfgbfg\\n'])\n",
    "\ttmp_f.seek(0,0)\n",
    "\tprint(tmp_f.readlines())"
   ]
  }
 ],
 "metadata": {
  "kernelspec": {
   "display_name": "Python 3",
   "language": "python",
   "name": "python3"
  },
  "language_info": {
   "codemirror_mode": {
    "name": "ipython",
    "version": 3
   },
   "file_extension": ".py",
   "mimetype": "text/x-python",
   "name": "python",
   "nbconvert_exporter": "python",
   "pygments_lexer": "ipython3",
   "version": "3.13.2"
  }
 },
 "nbformat": 4,
 "nbformat_minor": 2
}
