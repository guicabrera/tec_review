{
 "cells": [
  {
   "cell_type": "code",
   "execution_count": 3,
   "id": "3021574f",
   "metadata": {},
   "outputs": [
    {
     "data": {
      "text/plain": [
       "0      Alice\n",
       "1        Bob\n",
       "2    Charlie\n",
       "3      David\n",
       "Name: Name, dtype: object"
      ]
     },
     "execution_count": 3,
     "metadata": {},
     "output_type": "execute_result"
    }
   ],
   "source": [
    "import pandas as pd\n",
    "\n",
    "data = {\n",
    "    'Name': ['Alice ', 'Bob ', 'Charlie ', 'David '],\n",
    "    'Age': [25, 30, 35, 40],\n",
    "    'City': ['New York', 'Paris', 'London', 'Berlin']\n",
    "}\n",
    "df = pd.DataFrame(data)\n",
    "df['Name'].str.strip()  ##Trim whitespace from the 'Name' column\n"
   ]
  },
  {
   "cell_type": "code",
   "execution_count": null,
   "id": "39e4df16",
   "metadata": {},
   "outputs": [],
   "source": [
    "#python *arhs\n",
    "def args_f(*args):\n",
    "    for arg in args:\n",
    "        print(arg)"
   ]
  },
  {
   "cell_type": "code",
   "execution_count": 7,
   "id": "2c2170f1",
   "metadata": {},
   "outputs": [
    {
     "data": {
      "text/plain": [
       "[(1, 2), (1, 3), (2, 1), (2, 3), (3, 1), (3, 2)]"
      ]
     },
     "execution_count": 7,
     "metadata": {},
     "output_type": "execute_result"
    }
   ],
   "source": [
    "from itertools import permutations\n",
    "\n",
    "list(permutations([1, 2, 3], 2))  # Generate all combinations of length 2 from the list [1, 2, 3]"
   ]
  },
  {
   "cell_type": "code",
   "execution_count": null,
   "id": "55def780",
   "metadata": {},
   "outputs": [],
   "source": [
    "def loc_exe_folder(relative_path_to_find):\n",
    "    import os\n",
    "    import sys\n",
    "    if hasattr(sys, '_MEIPASS'):\n",
    "        return os.path.join(sys._MEIPASS, relative_path_to_find)\n",
    "    else:\n",
    "        return os.path.join(os.path.dirname(__file__), relative_path_to_find)"
   ]
  },
  {
   "cell_type": "code",
   "execution_count": 11,
   "id": "9fe8f3c7",
   "metadata": {},
   "outputs": [
    {
     "name": "stderr",
     "output_type": "stream",
     "text": [
      "<>:15: SyntaxWarning: invalid escape sequence '\\w'\n",
      "<>:15: SyntaxWarning: invalid escape sequence '\\w'\n",
      "C:\\Users\\gui-c\\AppData\\Local\\Temp\\ipykernel_34088\\410420981.py:15: SyntaxWarning: invalid escape sequence '\\w'\n",
      "  eel.init('tec_review\\web')\n",
      "C:\\Users\\gui-c\\AppData\\Local\\Temp\\ipykernel_34088\\410420981.py:15: SyntaxWarning: invalid escape sequence '\\w'\n",
      "  eel.init('tec_review\\web')\n"
     ]
    },
    {
     "ename": "TypeError",
     "evalue": "start() got an unexpected keyword argument 'chromeFlags'",
     "output_type": "error",
     "traceback": [
      "\u001b[31m---------------------------------------------------------------------------\u001b[39m",
      "\u001b[31mTypeError\u001b[39m                                 Traceback (most recent call last)",
      "\u001b[36mCell\u001b[39m\u001b[36m \u001b[39m\u001b[32mIn[11]\u001b[39m\u001b[32m, line 24\u001b[39m\n\u001b[32m     22\u001b[39m     \u001b[38;5;28;01melse\u001b[39;00m:\n\u001b[32m     23\u001b[39m         \u001b[38;5;28;01mreturn\u001b[39;00m os.path.join(os.path.dirname(\u001b[34m__file__\u001b[39m), filename)\n\u001b[32m---> \u001b[39m\u001b[32m24\u001b[39m \u001b[43meel\u001b[49m\u001b[43m.\u001b[49m\u001b[43mstart\u001b[49m\u001b[43m(\u001b[49m\u001b[33;43m'\u001b[39;49m\u001b[33;43mindex.html\u001b[39;49m\u001b[33;43m'\u001b[39;49m\u001b[43m,\u001b[49m\u001b[43m \u001b[49m\u001b[43msize\u001b[49m\u001b[43m=\u001b[49m\u001b[43m(\u001b[49m\u001b[32;43m800\u001b[39;49m\u001b[43m,\u001b[49m\u001b[43m \u001b[49m\u001b[32;43m600\u001b[39;49m\u001b[43m)\u001b[49m\u001b[43m,\u001b[49m\u001b[43m \u001b[49m\u001b[43mmode\u001b[49m\u001b[43m=\u001b[49m\u001b[33;43m'\u001b[39;49m\u001b[33;43mchrome-app\u001b[39;49m\u001b[33;43m'\u001b[39;49m\u001b[43m,\u001b[49m\u001b[43m \u001b[49m\u001b[43mport\u001b[49m\u001b[43m=\u001b[49m\u001b[32;43m8080\u001b[39;49m\u001b[43m,\u001b[49m\u001b[43m \u001b[49m\u001b[43mchromeFlags\u001b[49m\u001b[43m=\u001b[49m\u001b[43mbrowser_options\u001b[49m\u001b[43m[\u001b[49m\u001b[33;43m'\u001b[39;49m\u001b[33;43mchromeFlags\u001b[39;49m\u001b[33;43m'\u001b[39;49m\u001b[43m]\u001b[49m\u001b[43m)\u001b[49m\n",
      "\u001b[31mTypeError\u001b[39m: start() got an unexpected keyword argument 'chromeFlags'"
     ]
    }
   ],
   "source": [
    "import eel\n",
    "\n",
    "# Define options for a cleaner browser appearance\n",
    "browser_options = {\n",
    "    'mode': 'chrome-app',  # Use chrome-app mode for a cleaner UI\n",
    "    'port': 8080,\n",
    "    'chromeFlags': [\n",
    "        '--app',  # Makes it look more like a native app\n",
    "        '--window-size=800,600',  # Set window size\n",
    "        '--disable-extensions',  # Disable browser extensions\n",
    "        '--disable-infobars',  # Hide info bars\n",
    "        '--kiosk-printing'  # Simplifies printing dialog\n",
    "    ]\n",
    "}\n",
    "eel.init('tec_review\\web')\n",
    "eel.expose\n",
    "def get_file_path(filename):\n",
    "    import os\n",
    "    import sys\n",
    "    if hasattr(sys, '_MEIPASS'):\n",
    "        return os.path.join(sys._MEIPASS, filename)\n",
    "    else:\n",
    "        return os.path.join(os.path.dirname(__file__), filename)\n",
    "eel.start('index.html', size=(800, 600), mode='chrome-app', port=8080, chromeFlags=browser_options['chromeFlags'])\n"
   ]
  },
  {
   "cell_type": "code",
   "execution_count": 14,
   "id": "8247508a",
   "metadata": {},
   "outputs": [
    {
     "name": "stderr",
     "output_type": "stream",
     "text": [
      "Traceback (most recent call last):\n",
      "  File \"C:\\Users\\gui-c\\AppData\\Roaming\\Python\\Python313\\site-packages\\gevent\\_ffi\\loop.py\", line 270, in python_check_callback\n",
      "    def python_check_callback(self, watcher_ptr): # pylint:disable=unused-argument\n",
      "    \n",
      "KeyboardInterrupt\n",
      "2025-05-29T02:16:57Z\n"
     ]
    }
   ],
   "source": [
    "import eel\n",
    "\n",
    "# Define Chrome flags for a cleaner browser appearance\n",
    "chrome_flags = [\n",
    "    '--app',  # Makes it look more like a native app\n",
    "    '--window-size=800,600',  # Set window size\n",
    "    '--disable-extensions',  # Disable browser extensions\n",
    "    '--disable-infobars',  # Hide info bars\n",
    "    '--kiosk-printing'  # Simplifies printing dialog\n",
    "]\n",
    "\n",
    "# Fix the path format (use forward slashes or double backslashes)\n",
    "eel.init('web')  # Use correct path to web folder\n",
    "\n",
    "# Fix the decorator syntax\n",
    "@eel.expose\n",
    "def get_file_path_(filename):\n",
    "    import os\n",
    "    import sys\n",
    "    if hasattr(sys, '_MEIPASS'):\n",
    "        return os.path.join(sys._MEIPASS, filename)\n",
    "    else:\n",
    "        return os.path.join(os.path.dirname(__file__), filename)\n",
    "\n",
    "# Start with the correct parameter structure\n",
    "eel.start(\n",
    "    'index.html',  \n",
    "    size=(800, 600), \n",
    "    mode='chrome-app', \n",
    "    port=8080,\n",
    "    cmdline_args=chrome_flags\n",
    ")"
   ]
  },
  {
   "cell_type": "code",
   "execution_count": null,
   "id": "fef8d256",
   "metadata": {},
   "outputs": [],
   "source": [
    "def y1():\n",
    "    yield 1\n",
    "    yield 2\n",
    "def y2():\n",
    "    yield from y1()\n",
    "    yield 3"
   ]
  },
  {
   "cell_type": "code",
   "execution_count": 16,
   "id": "9f36faa0",
   "metadata": {},
   "outputs": [
    {
     "ename": "NameError",
     "evalue": "name 'self' is not defined",
     "output_type": "error",
     "traceback": [
      "\u001b[31m---------------------------------------------------------------------------\u001b[39m",
      "\u001b[31mNameError\u001b[39m                                 Traceback (most recent call last)",
      "\u001b[36mCell\u001b[39m\u001b[36m \u001b[39m\u001b[32mIn[16]\u001b[39m\u001b[32m, line 1\u001b[39m\n\u001b[32m----> \u001b[39m\u001b[32m1\u001b[39m \u001b[38;5;28;43;01mclass\u001b[39;49;00m\u001b[38;5;250;43m \u001b[39;49m\u001b[34;43;01mdummy\u001b[39;49;00m\u001b[43m(\u001b[49m\u001b[43m)\u001b[49m\u001b[43m:\u001b[49m\n\u001b[32m      2\u001b[39m \u001b[43m    \u001b[49m\u001b[38;5;28;43;01mdef\u001b[39;49;00m\u001b[38;5;250;43m \u001b[39;49m\u001b[34;43m__init__\u001b[39;49m\u001b[43m(\u001b[49m\u001b[38;5;28;43mself\u001b[39;49m\u001b[43m)\u001b[49m\u001b[43m:\u001b[49m\n\u001b[32m      3\u001b[39m \u001b[43m        \u001b[49m\u001b[38;5;28;43;01mpass\u001b[39;49;00m\n",
      "\u001b[36mCell\u001b[39m\u001b[36m \u001b[39m\u001b[32mIn[16]\u001b[39m\u001b[32m, line 4\u001b[39m, in \u001b[36mdummy\u001b[39m\u001b[34m()\u001b[39m\n\u001b[32m      2\u001b[39m \u001b[38;5;28;01mdef\u001b[39;00m\u001b[38;5;250m \u001b[39m\u001b[34m__init__\u001b[39m(\u001b[38;5;28mself\u001b[39m):\n\u001b[32m      3\u001b[39m     \u001b[38;5;28;01mpass\u001b[39;00m\n\u001b[32m----> \u001b[39m\u001b[32m4\u001b[39m \u001b[38;5;28;43mself\u001b[39;49m.fix_prop = \u001b[32m2\u001b[39m\n\u001b[32m      6\u001b[39m \u001b[38;5;129m@property\u001b[39m\n\u001b[32m      7\u001b[39m \u001b[38;5;28;01mdef\u001b[39;00m\u001b[38;5;250m \u001b[39m\u001b[34mprop\u001b[39m(\u001b[38;5;28mself\u001b[39m):\n\u001b[32m      8\u001b[39m     \u001b[38;5;28;01mreturn\u001b[39;00m \u001b[32m1\u001b[39m\n",
      "\u001b[31mNameError\u001b[39m: name 'self' is not defined"
     ]
    }
   ],
   "source": [
    "class dummy():\n",
    "    def __init__(self):\n",
    "        pass\n",
    "    self.fix_prop = 2\n",
    "\n",
    "    @property\n",
    "    def prop(self):\n",
    "        return 1"
   ]
  },
  {
   "cell_type": "code",
   "execution_count": null,
   "id": "89e46be9",
   "metadata": {},
   "outputs": [],
   "source": []
  }
 ],
 "metadata": {
  "kernelspec": {
   "display_name": "Python 3",
   "language": "python",
   "name": "python3"
  },
  "language_info": {
   "codemirror_mode": {
    "name": "ipython",
    "version": 3
   },
   "file_extension": ".py",
   "mimetype": "text/x-python",
   "name": "python",
   "nbconvert_exporter": "python",
   "pygments_lexer": "ipython3",
   "version": "3.13.3"
  }
 },
 "nbformat": 4,
 "nbformat_minor": 5
}
